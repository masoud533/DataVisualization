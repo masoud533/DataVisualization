{
 "cells": [
  {
   "cell_type": "code",
   "execution_count": 2,
   "id": "53b8d0d7",
   "metadata": {},
   "outputs": [],
   "source": [
    "import pandas as pd\n",
    "import numpy as np\n",
    "import matplotlib.pyplot as plt\n",
    "import os"
   ]
  },
  {
   "cell_type": "markdown",
   "id": "c04bffcc",
   "metadata": {},
   "source": [
    "# read DATA"
   ]
  },
  {
   "cell_type": "code",
   "execution_count": 3,
   "id": "edade4e9",
   "metadata": {},
   "outputs": [],
   "source": [
    "src_file = os.path.join('data', 'road_accident_data.csv')"
   ]
  },
  {
   "cell_type": "code",
   "execution_count": 5,
   "id": "eab84369",
   "metadata": {},
   "outputs": [],
   "source": [
    "df = pd.read_csv(src_file)"
   ]
  },
  {
   "cell_type": "code",
   "execution_count": 6,
   "id": "628aaae3",
   "metadata": {},
   "outputs": [
    {
     "data": {
      "text/html": [
       "<div>\n",
       "<style scoped>\n",
       "    .dataframe tbody tr th:only-of-type {\n",
       "        vertical-align: middle;\n",
       "    }\n",
       "\n",
       "    .dataframe tbody tr th {\n",
       "        vertical-align: top;\n",
       "    }\n",
       "\n",
       "    .dataframe thead th {\n",
       "        text-align: right;\n",
       "    }\n",
       "</style>\n",
       "<table border=\"1\" class=\"dataframe\">\n",
       "  <thead>\n",
       "    <tr style=\"text-align: right;\">\n",
       "      <th></th>\n",
       "      <th>Million Plus Cities</th>\n",
       "      <th>Cause category</th>\n",
       "      <th>Cause Subcategory</th>\n",
       "      <th>Outcome of Incident</th>\n",
       "      <th>Count</th>\n",
       "    </tr>\n",
       "  </thead>\n",
       "  <tbody>\n",
       "    <tr>\n",
       "      <th>0</th>\n",
       "      <td>Agra</td>\n",
       "      <td>Traffic Control</td>\n",
       "      <td>Flashing Signal/Blinker</td>\n",
       "      <td>Greviously Injured</td>\n",
       "      <td>0.0</td>\n",
       "    </tr>\n",
       "    <tr>\n",
       "      <th>1</th>\n",
       "      <td>Agra</td>\n",
       "      <td>Traffic Control</td>\n",
       "      <td>Flashing Signal/Blinker</td>\n",
       "      <td>Minor Injury</td>\n",
       "      <td>0.0</td>\n",
       "    </tr>\n",
       "    <tr>\n",
       "      <th>2</th>\n",
       "      <td>Agra</td>\n",
       "      <td>Traffic Control</td>\n",
       "      <td>Flashing Signal/Blinker</td>\n",
       "      <td>Persons Killed</td>\n",
       "      <td>0.0</td>\n",
       "    </tr>\n",
       "    <tr>\n",
       "      <th>3</th>\n",
       "      <td>Agra</td>\n",
       "      <td>Traffic Control</td>\n",
       "      <td>Flashing Signal/Blinker</td>\n",
       "      <td>Total Injured</td>\n",
       "      <td>0.0</td>\n",
       "    </tr>\n",
       "    <tr>\n",
       "      <th>4</th>\n",
       "      <td>Agra</td>\n",
       "      <td>Traffic Control</td>\n",
       "      <td>Flashing Signal/Blinker</td>\n",
       "      <td>Total number of Accidents</td>\n",
       "      <td>0.0</td>\n",
       "    </tr>\n",
       "    <tr>\n",
       "      <th>5</th>\n",
       "      <td>Agra</td>\n",
       "      <td>Traffic Control</td>\n",
       "      <td>Others</td>\n",
       "      <td>Greviously Injured</td>\n",
       "      <td>175.0</td>\n",
       "    </tr>\n",
       "    <tr>\n",
       "      <th>6</th>\n",
       "      <td>Agra</td>\n",
       "      <td>Traffic Control</td>\n",
       "      <td>Others</td>\n",
       "      <td>Minor Injury</td>\n",
       "      <td>91.0</td>\n",
       "    </tr>\n",
       "    <tr>\n",
       "      <th>7</th>\n",
       "      <td>Agra</td>\n",
       "      <td>Traffic Control</td>\n",
       "      <td>Others</td>\n",
       "      <td>Persons Killed</td>\n",
       "      <td>373.0</td>\n",
       "    </tr>\n",
       "    <tr>\n",
       "      <th>8</th>\n",
       "      <td>Agra</td>\n",
       "      <td>Traffic Control</td>\n",
       "      <td>Others</td>\n",
       "      <td>Total Injured</td>\n",
       "      <td>266.0</td>\n",
       "    </tr>\n",
       "    <tr>\n",
       "      <th>9</th>\n",
       "      <td>Agra</td>\n",
       "      <td>Traffic Control</td>\n",
       "      <td>Others</td>\n",
       "      <td>Total number of Accidents</td>\n",
       "      <td>470.0</td>\n",
       "    </tr>\n",
       "  </tbody>\n",
       "</table>\n",
       "</div>"
      ],
      "text/plain": [
       "  Million Plus Cities   Cause category        Cause Subcategory  \\\n",
       "0                Agra  Traffic Control  Flashing Signal/Blinker   \n",
       "1                Agra  Traffic Control  Flashing Signal/Blinker   \n",
       "2                Agra  Traffic Control  Flashing Signal/Blinker   \n",
       "3                Agra  Traffic Control  Flashing Signal/Blinker   \n",
       "4                Agra  Traffic Control  Flashing Signal/Blinker   \n",
       "5                Agra  Traffic Control                   Others   \n",
       "6                Agra  Traffic Control                   Others   \n",
       "7                Agra  Traffic Control                   Others   \n",
       "8                Agra  Traffic Control                   Others   \n",
       "9                Agra  Traffic Control                   Others   \n",
       "\n",
       "         Outcome of Incident  Count  \n",
       "0         Greviously Injured    0.0  \n",
       "1               Minor Injury    0.0  \n",
       "2             Persons Killed    0.0  \n",
       "3              Total Injured    0.0  \n",
       "4  Total number of Accidents    0.0  \n",
       "5         Greviously Injured  175.0  \n",
       "6               Minor Injury   91.0  \n",
       "7             Persons Killed  373.0  \n",
       "8              Total Injured  266.0  \n",
       "9  Total number of Accidents  470.0  "
      ]
     },
     "execution_count": 6,
     "metadata": {},
     "output_type": "execute_result"
    }
   ],
   "source": [
    "df.head(10)"
   ]
  },
  {
   "cell_type": "code",
   "execution_count": null,
   "id": "5be8779f",
   "metadata": {},
   "outputs": [],
   "source": [
    "# data informations"
   ]
  },
  {
   "cell_type": "code",
   "execution_count": 14,
   "id": "79738e1a",
   "metadata": {},
   "outputs": [
    {
     "name": "stdout",
     "output_type": "stream",
     "text": [
      "<class 'pandas.core.frame.DataFrame'>\n",
      "RangeIndex: 9550 entries, 0 to 9549\n",
      "Data columns (total 5 columns):\n",
      " #   Column               Non-Null Count  Dtype  \n",
      "---  ------               --------------  -----  \n",
      " 0   Million Plus Cities  9550 non-null   object \n",
      " 1   Cause category       9550 non-null   object \n",
      " 2   Cause Subcategory    9550 non-null   object \n",
      " 3   Outcome of Incident  9550 non-null   object \n",
      " 4   Count                9547 non-null   float64\n",
      "dtypes: float64(1), object(4)\n",
      "memory usage: 373.2+ KB\n"
     ]
    }
   ],
   "source": [
    "df.info()"
   ]
  },
  {
   "cell_type": "code",
   "execution_count": 8,
   "id": "f216b1f0",
   "metadata": {},
   "outputs": [
    {
     "data": {
      "text/plain": [
       "(9550, 5)"
      ]
     },
     "execution_count": 8,
     "metadata": {},
     "output_type": "execute_result"
    }
   ],
   "source": [
    "np.shape(df)"
   ]
  },
  {
   "cell_type": "code",
   "execution_count": 13,
   "id": "1803584a",
   "metadata": {},
   "outputs": [
    {
     "data": {
      "text/plain": [
       "Million Plus Cities    9550\n",
       "Cause category         9550\n",
       "Cause Subcategory      9550\n",
       "Outcome of Incident    9550\n",
       "Count                  9550\n",
       "dtype: int64"
      ]
     },
     "execution_count": 13,
     "metadata": {},
     "output_type": "execute_result"
    }
   ],
   "source": [
    "df.isna().count()"
   ]
  },
  {
   "cell_type": "code",
   "execution_count": 15,
   "id": "a2a87b08",
   "metadata": {},
   "outputs": [
    {
     "data": {
      "text/plain": [
       "(array([1500.,    0., 1500.,    0., 1500.,    0., 2000.,    0., 1800.,\n",
       "        1250.]),\n",
       " array([0. , 0.5, 1. , 1.5, 2. , 2.5, 3. , 3.5, 4. , 4.5, 5. ]),\n",
       " <BarContainer object of 10 artists>)"
      ]
     },
     "execution_count": 15,
     "metadata": {},
     "output_type": "execute_result"
    },
    {
     "data": {
      "image/png": "[encoded data removed]",
      "text/plain": [
       "<Figure size 640x480 with 1 Axes>"
      ]
     },
     "metadata": {},
     "output_type": "display_data"
    }
   ],
   "source": [
    "plt.hist(df['Cause category'])"
   ]
  },
  {
   "cell_type": "code",
   "execution_count": 31,
   "id": "18fef448",
   "metadata": {},
   "outputs": [
    {
     "data": {
      "image/png": "[encoded data removed]",
      "text/plain": [
       "<Figure size 640x480 with 1 Axes>"
      ]
     },
     "metadata": {},
     "output_type": "display_data"
    }
   ],
   "source": [
    "fig, ax = plt.subplots()\n",
    "ax.hist(df['Cause category'],bins=15)\n",
    "plt.xticks(rotation=70)\n",
    "plt.show()"
   ]
  }
 ],
 "metadata": {
  "kernelspec": {
   "display_name": "Python 3 (ipykernel)",
   "language": "python",
   "name": "python3"
  },
  "language_info": {
   "codemirror_mode": {
    "name": "ipython",
    "version": 3
   },
   "file_extension": ".py",
   "mimetype": "text/x-python",
   "name": "python",
   "nbconvert_exporter": "python",
   "pygments_lexer": "ipython3",
   "version": "3.8.5"
  }
 },
 "nbformat": 4,
 "nbformat_minor": 5
}
